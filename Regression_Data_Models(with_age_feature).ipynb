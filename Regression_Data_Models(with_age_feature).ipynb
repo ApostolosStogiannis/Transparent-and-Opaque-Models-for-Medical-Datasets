{
  "cells": [
    {
      "cell_type": "markdown",
      "metadata": {
        "id": "xkBsy_9pnt3T"
      },
      "source": [
        "\n",
        "#Setting Up the Models\n",
        "\n"
      ]
    },
    {
      "cell_type": "markdown",
      "metadata": {
        "id": "VSH1cC5MnyGK"
      },
      "source": [
        "##Install Libraries and Import Packages"
      ]
    },
    {
      "cell_type": "code",
      "execution_count": null,
      "metadata": {
        "id": "KTV2QsXZmopa",
        "collapsed": true
      },
      "outputs": [],
      "source": [
        "!pip install -r requirements_rg.txt"
      ]
    },
    {
      "cell_type": "code",
      "execution_count": null,
      "metadata": {
        "id": "aWLGHlwsn18N"
      },
      "outputs": [],
      "source": [
        "from ucimlrepo import fetch_ucirepo\n",
        "\n",
        "import pandas as pd\n",
        "import numpy as np\n",
        "from sklearn.model_selection import train_test_split\n",
        "\n",
        "from sklearn.tree import DecisionTreeRegressor\n",
        "from interpret.glassbox import ExplainableBoostingRegressor\n",
        "from catboost import CatBoostRegressor\n",
        "from lightgbm import LGBMRegressor\n",
        "\n",
        "from sklearn.metrics import  mean_squared_error, r2_score, mean_absolute_error\n",
        "import matplotlib.pyplot as plt\n",
        "import seaborn as sns\n",
        "\n",
        "from interpret import show\n",
        "import shap\n",
        "import graphviz\n",
        "from sklearn.tree import export_graphviz\n",
        "from lime.lime_tabular import LimeTabularExplainer\n",
        "\n",
        "# fetch dataset\n",
        "parkinsons_telemonitoring = fetch_ucirepo(id=189)\n",
        "\n",
        "# data (as pandas dataframes)\n",
        "df = parkinsons_telemonitoring.data.original.copy()"
      ]
    },
    {
      "cell_type": "markdown",
      "source": [
        "##Dataset Analysis"
      ],
      "metadata": {
        "id": "bUPhCq5L4p3R"
      }
    },
    {
      "cell_type": "code",
      "source": [
        "df.info()"
      ],
      "metadata": {
        "id": "xjyiY7yz4sn5"
      },
      "execution_count": null,
      "outputs": []
    },
    {
      "cell_type": "code",
      "source": [
        "df.describe()"
      ],
      "metadata": {
        "id": "DT6gFG9I4xiO"
      },
      "execution_count": null,
      "outputs": []
    },
    {
      "cell_type": "code",
      "source": [
        "df.head()"
      ],
      "metadata": {
        "id": "UzOJf3dJ445V"
      },
      "execution_count": null,
      "outputs": []
    },
    {
      "cell_type": "code",
      "source": [
        "plt.figure(figsize=(10, 6))\n",
        "sns.heatmap(df.corr(), annot=True, cmap='coolwarm')\n",
        "plt.title(\"Correlation Heatmap\")\n",
        "plt.show()"
      ],
      "metadata": {
        "id": "9enXA9jw47Sf"
      },
      "execution_count": null,
      "outputs": []
    },
    {
      "cell_type": "code",
      "source": [
        "df.duplicated().sum()"
      ],
      "metadata": {
        "id": "H8JSjk0K5X9y",
        "outputId": "a81924f7-1047-46e6-d6c9-f961f5ed94a2",
        "colab": {
          "base_uri": "https://localhost:8080/"
        }
      },
      "execution_count": null,
      "outputs": [
        {
          "output_type": "execute_result",
          "data": {
            "text/plain": [
              "np.int64(0)"
            ]
          },
          "metadata": {},
          "execution_count": 46
        }
      ]
    },
    {
      "cell_type": "code",
      "source": [
        "df.isna().sum()"
      ],
      "metadata": {
        "id": "cZCV12WS5dzb"
      },
      "execution_count": null,
      "outputs": []
    },
    {
      "cell_type": "markdown",
      "metadata": {
        "id": "HZnThT8qq5w0"
      },
      "source": [
        "##Handling Outliers with IQR Method"
      ]
    },
    {
      "cell_type": "code",
      "execution_count": null,
      "metadata": {
        "id": "ci_wQGj8rI4D"
      },
      "outputs": [],
      "source": [
        "for col in df.columns:\n",
        "    Q1 = df[col].quantile(0.25)\n",
        "    Q3 = df[col].quantile(0.75)\n",
        "    IQR = Q3 - Q1\n",
        "\n",
        "    lower = Q1 - 1.5 * IQR\n",
        "    upper = Q3 + 1.5 * IQR\n",
        "\n",
        "    df[col] = np.where(df[col] > upper, upper, df[col])\n",
        "    df[col] = np.where(df[col] < lower, lower, df[col])"
      ]
    },
    {
      "cell_type": "markdown",
      "metadata": {
        "id": "QpbUYBfPrMPJ"
      },
      "source": [
        "##Split Data"
      ]
    },
    {
      "cell_type": "code",
      "execution_count": null,
      "metadata": {
        "id": "o7k6YoWCrPFd"
      },
      "outputs": [],
      "source": [
        "X = df.drop(['total_UPDRS', 'motor_UPDRS', 'subject#'], axis=1)\n",
        "y = df['total_UPDRS']\n",
        "\n",
        "#change column names for LightGBM\n",
        "X.columns = [\"\".join (c if c.isalnum() else \"_\" for c in str(x)) for x in X.columns]\n",
        "\n",
        "X_train, X_test, y_train, y_test = train_test_split(X, y, test_size=0.25, random_state=0)"
      ]
    },
    {
      "cell_type": "markdown",
      "metadata": {
        "id": "0hmT_hpesIpB"
      },
      "source": [
        "##Creating the Optimized Models and Then Fitting them"
      ]
    },
    {
      "cell_type": "code",
      "execution_count": null,
      "metadata": {
        "id": "_1SsWsSrsJJ0"
      },
      "outputs": [],
      "source": [
        "dt = DecisionTreeRegressor(ccp_alpha=0.0, criterion='absolute_error', max_depth=18,\n",
        "                           max_features=None, max_leaf_nodes=None, min_impurity_decrease=0.0,\n",
        "                           min_samples_leaf=2, min_samples_split=11, min_weight_fraction_leaf=0.0,\n",
        "                           monotonic_cst=None, random_state=100, splitter='best')\n",
        "\n",
        "ebm = ExplainableBoostingRegressor(callback=None, cat_smooth=10.0, cyclic_progress=False,\n",
        "                                   early_stopping_rounds=100, early_stopping_tolerance=1e-05, exclude=None,\n",
        "                                   feature_names=None, feature_types=None, gain_scale=5.0,\n",
        "                                   greedy_ratio=10.0, inner_bags=0, interaction_smoothing_rounds=100,\n",
        "                                   interactions=10, learning_rate=0.006286164131029316, max_bins=32,\n",
        "                                   max_delta_step=0.0, max_interaction_bins=250, max_leaves=3,\n",
        "                                   max_rounds=50000, min_cat_samples=10, min_hessian=0.0,\n",
        "                                   min_samples_leaf=14, missing='separate', monotone_constraints=None,\n",
        "                                   n_jobs=2, objective='rmse', outer_bags=14,\n",
        "                                   random_state=100, reg_alpha=0.0, reg_lambda=0.0,\n",
        "                                   smoothing_rounds=500, validation_size=0.15)\n",
        "\n",
        "cat = CatBoostRegressor(iterations=952, learning_rate=0.05794977501448691, depth=8,\n",
        "                        l2_leaf_reg=1.1630011660824908, loss_function='RMSE', bootstrap_type='MVS',\n",
        "                        random_state=100)\n",
        "\n",
        "lgbm = LGBMRegressor(boosting_type='dart', class_weight=None, colsample_bytree=0.9359031224606773,\n",
        "                     importance_type='split', learning_rate=0.24546035056829404, max_depth=7,\n",
        "                     min_child_samples=7, min_child_weight=0.001, min_split_gain=0.0,\n",
        "                     n_estimators=911, n_jobs=None, num_leaves=2006,\n",
        "                     objective=None, random_state=100, reg_alpha=1.7057427635070053,\n",
        "                     reg_lambda=0.5682408091391381, subsample=0.8604189603227428, subsample_for_bin=200000,\n",
        "                     subsample_freq=0)"
      ]
    },
    {
      "cell_type": "code",
      "execution_count": null,
      "metadata": {
        "id": "LVC0ePnR9XhV",
        "collapsed": true
      },
      "outputs": [],
      "source": [
        "dt.fit(X_train, y_train)\n",
        "ebm.fit(X_train, y_train)\n",
        "cat.fit(X_train, y_train)\n",
        "lgbm.fit(X_train, y_train)"
      ]
    },
    {
      "cell_type": "markdown",
      "metadata": {
        "id": "q_urWFNo9nRd"
      },
      "source": [
        "##Evaluating Each Model's Performance"
      ]
    },
    {
      "cell_type": "code",
      "execution_count": null,
      "metadata": {
        "id": "zLUMxZFJ9o5O"
      },
      "outputs": [],
      "source": [
        "#For dt\n",
        "dt_pred = dt.predict(X_test)\n",
        "print(\"\\nFor the Decision Tree Model:\")\n",
        "print(\"\\nMSE is : \" + str(mean_squared_error(y_test, dt_pred)))\n",
        "print(\"\\nR2 is : \" + str(r2_score(y_test, dt_pred)))\n",
        "print(\"\\nMAE is : \" + str(mean_absolute_error(y_test, dt_pred)))"
      ]
    },
    {
      "cell_type": "code",
      "execution_count": null,
      "metadata": {
        "id": "NeA0YLLt-Bil"
      },
      "outputs": [],
      "source": [
        "#For ebm\n",
        "ebm_pred = ebm.predict(X_test)\n",
        "print(\"\\nFor the Explainable Boosting Machine Model:\")\n",
        "print(\"\\nMSE is : \" + str(mean_squared_error(y_test, ebm_pred)))\n",
        "print(\"\\nR2 is : \" + str(r2_score(y_test, ebm_pred)))\n",
        "print(\"\\nMAE is : \" + str(mean_absolute_error(y_test, ebm_pred)))"
      ]
    },
    {
      "cell_type": "code",
      "execution_count": null,
      "metadata": {
        "id": "uRSn1FMN-X3k"
      },
      "outputs": [],
      "source": [
        "#For cat\n",
        "cat_pred = cat.predict(X_test)\n",
        "print(\"\\nFor the CatBoost Model:\")\n",
        "print(\"\\nMSE is : \" + str(mean_squared_error(y_test, cat_pred)))\n",
        "print(\"\\nR2 is : \" + str(r2_score(y_test, cat_pred)))\n",
        "print(\"\\nMAE is : \" + str(mean_absolute_error(y_test, cat_pred)))"
      ]
    },
    {
      "cell_type": "code",
      "execution_count": null,
      "metadata": {
        "id": "J3ieg0n--hoQ"
      },
      "outputs": [],
      "source": [
        "#For lgbm\n",
        "lgbm_pred = lgbm.predict(X_test)\n",
        "print(\"\\nFor the LightGBM Model:\")\n",
        "print(\"\\nMSE is : \" + str(mean_squared_error(y_test, lgbm_pred)))\n",
        "print(\"\\nR2 is : \" + str(r2_score(y_test, lgbm_pred)))\n",
        "print(\"\\nMAE is : \" + str(mean_absolute_error(y_test, lgbm_pred)))"
      ]
    },
    {
      "cell_type": "markdown",
      "metadata": {
        "id": "9kTy78fW-wcc"
      },
      "source": [
        "#Global Explainability"
      ]
    },
    {
      "cell_type": "markdown",
      "metadata": {
        "id": "jyp4NicG-y65"
      },
      "source": [
        "##Decision Tree's Tree Structure"
      ]
    },
    {
      "cell_type": "code",
      "execution_count": null,
      "metadata": {
        "id": "o1-y-VZD-4KY"
      },
      "outputs": [],
      "source": [
        "dot_data = export_graphviz(dt, out_file=None,\n",
        "                                feature_names=X.columns,\n",
        "                                filled=True)\n",
        "\n",
        "graph = graphviz.Source(dot_data, format=\"png\")\n",
        "graph"
      ]
    },
    {
      "cell_type": "markdown",
      "metadata": {
        "id": "zAFYwSU3_N_y"
      },
      "source": [
        "##EBM Global Explainability"
      ]
    },
    {
      "cell_type": "code",
      "execution_count": null,
      "metadata": {
        "id": "Y8YrH9ZU_S9W"
      },
      "outputs": [],
      "source": [
        "ebm_global = ebm.explain_global()\n",
        "show(ebm_global)"
      ]
    },
    {
      "cell_type": "markdown",
      "metadata": {
        "id": "UKjCw2Ub_s5z"
      },
      "source": [
        "##Setting Up SHAP explainers"
      ]
    },
    {
      "cell_type": "code",
      "execution_count": null,
      "metadata": {
        "id": "olxEivkI_tjD"
      },
      "outputs": [],
      "source": [
        "#turn data into DF for SHAP plots\n",
        "X_test_df = pd.DataFrame(X_test, columns=X.columns)\n",
        "\n",
        "#SHAP for dt\n",
        "dt_explainer = shap.TreeExplainer(dt)\n",
        "dt_shap_values = dt_explainer.shap_values(X_test_df)\n",
        "\n",
        "#wrapper function for EBM predict to handle feature names\n",
        "def ebm_predict_wrapper(X):\n",
        "    X_df = pd.DataFrame(X, columns=X_train.columns)\n",
        "    return ebm.predict(X_df)\n",
        "\n",
        "#SHAP for ebm\n",
        "ebm_explainer = shap.KernelExplainer(ebm_predict_wrapper, X_train)\n",
        "ebm_shap_values = ebm_explainer.shap_values(X_test_df)\n",
        "\n",
        "#SHAP for cat\n",
        "cat_explainer = shap.TreeExplainer(cat)\n",
        "cat_shap_values = cat_explainer.shap_values(X_test_df)\n",
        "\n",
        "#SHAP for lgbm\n",
        "lgbm_explainer = shap.Explainer(lgbm)\n",
        "lgbm_shap_values = lgbm_explainer.shap_values(X_test_df)"
      ]
    },
    {
      "cell_type": "markdown",
      "metadata": {
        "id": "raGQlBcgAbzr"
      },
      "source": [
        "##SHAP Summary Plots For Each Model"
      ]
    },
    {
      "cell_type": "code",
      "execution_count": null,
      "metadata": {
        "id": "mrr2w7zsAZvC"
      },
      "outputs": [],
      "source": [
        "#dt\n",
        "shap.summary_plot(dt_shap_values, X_test_df)"
      ]
    },
    {
      "cell_type": "code",
      "execution_count": null,
      "metadata": {
        "id": "EL0_LuJ8BESJ"
      },
      "outputs": [],
      "source": [
        "#ebm\n",
        "shap.summary_plot(ebm_shap_values, X_test_df)"
      ]
    },
    {
      "cell_type": "code",
      "execution_count": null,
      "metadata": {
        "id": "AjR2Hf1sBHNp"
      },
      "outputs": [],
      "source": [
        "#cat\n",
        "shap.summary_plot(cat_shap_values, X_test_df)"
      ]
    },
    {
      "cell_type": "code",
      "execution_count": null,
      "metadata": {
        "id": "hlRZdHC-BI9V"
      },
      "outputs": [],
      "source": [
        "#lgbm\n",
        "shap.summary_plot(lgbm_shap_values, X_test_df)"
      ]
    },
    {
      "cell_type": "markdown",
      "metadata": {
        "id": "FqE486sLBqGk"
      },
      "source": [
        "#Local Explainability"
      ]
    },
    {
      "cell_type": "markdown",
      "metadata": {
        "id": "Am48yC0SBs5n"
      },
      "source": [
        "##Selecting Instance"
      ]
    },
    {
      "cell_type": "code",
      "execution_count": null,
      "metadata": {
        "id": "I-v6Mu6eBvaj"
      },
      "outputs": [],
      "source": [
        "index = 0"
      ]
    },
    {
      "cell_type": "markdown",
      "metadata": {
        "id": "-9VJB0jBBxoV"
      },
      "source": [
        "##Decision Path"
      ]
    },
    {
      "cell_type": "code",
      "execution_count": null,
      "metadata": {
        "id": "lteq0CmOCBaS"
      },
      "outputs": [],
      "source": [
        "X_instance = X_test.iloc[[index]]\n",
        "\n",
        "node_indicator = dt.decision_path(X_instance)\n",
        "leaf_id = dt.apply(X_instance)\n",
        "\n",
        "print(f\"\\nDecision path for instance {index}:\")\n",
        "for node_id in node_indicator.indices:\n",
        "    if dt.tree_.children_left[node_id] != dt.tree_.children_right[node_id]:\n",
        "        feature = X_test.columns[dt.tree_.feature[node_id]]\n",
        "        threshold = dt.tree_.threshold[node_id]\n",
        "        if X_instance.iloc[0, dt.tree_.feature[node_id]] <= threshold:\n",
        "            threshold_sign = \"<=\"\n",
        "        else:\n",
        "            threshold_sign = \">\"\n",
        "        print(f\"  {feature} = {X_instance.iloc[0, dt.tree_.feature[node_id]]:.2f} \"\n",
        "              f\"{threshold_sign} {threshold:.2f}\")\n",
        "\n",
        "pred_value = dt.predict(X_instance)[0]\n",
        "true_value = y_test.iloc[index] if isinstance(y_test, pd.Series) else y_test[index]\n",
        "\n",
        "print(f\"\\nPredicted value: {pred_value}\")\n",
        "print(f\"Actual value: {true_value}\")"
      ]
    },
    {
      "cell_type": "markdown",
      "metadata": {
        "id": "cu8R0C3JCnTh"
      },
      "source": [
        "##Local EBM Explainability"
      ]
    },
    {
      "cell_type": "code",
      "execution_count": null,
      "metadata": {
        "id": "Y7uU1UY7CuSo"
      },
      "outputs": [],
      "source": [
        "ebm_local = ebm.explain_local(X_test, y_test)\n",
        "show(ebm_local)"
      ]
    },
    {
      "cell_type": "markdown",
      "metadata": {
        "id": "EbJcxGZhC398"
      },
      "source": [
        "##SHAP Waterfalls"
      ]
    },
    {
      "cell_type": "code",
      "execution_count": null,
      "metadata": {
        "id": "0qdEJCzvC6ez"
      },
      "outputs": [],
      "source": [
        "#dt\n",
        "shap.initjs()\n",
        "shap.force_plot(dt_explainer.expected_value, dt_shap_values[index, :], X_test_df.iloc[index])"
      ]
    },
    {
      "cell_type": "code",
      "execution_count": null,
      "metadata": {
        "id": "DKG8H_lJDDfU"
      },
      "outputs": [],
      "source": [
        "#ebm\n",
        "shap.initjs()\n",
        "shap.force_plot(ebm_explainer.expected_value, ebm_shap_values[index, :], X_test_df.iloc[index])"
      ]
    },
    {
      "cell_type": "code",
      "execution_count": null,
      "metadata": {
        "id": "gSSVWntTDHS1"
      },
      "outputs": [],
      "source": [
        "#cat\n",
        "shap.initjs()\n",
        "shap.force_plot(cat_explainer.expected_value, cat_shap_values[index, :], X_test_df.iloc[index])"
      ]
    },
    {
      "cell_type": "code",
      "execution_count": null,
      "metadata": {
        "id": "L7GKGyeSDLan"
      },
      "outputs": [],
      "source": [
        "#lgbm\n",
        "shap.initjs()\n",
        "shap.force_plot(lgbm_explainer.expected_value, lgbm_shap_values[index, :], X_test_df.iloc[index])"
      ]
    },
    {
      "cell_type": "markdown",
      "metadata": {
        "id": "QO_tYGSZGZNw"
      },
      "source": [
        "##Setting up LIME Explainer"
      ]
    },
    {
      "cell_type": "code",
      "execution_count": null,
      "metadata": {
        "id": "ZG6wglTTdVHH"
      },
      "outputs": [],
      "source": [
        "explainer = LimeTabularExplainer(X_train.values, feature_names=X.columns.tolist(), mode='regression')"
      ]
    },
    {
      "cell_type": "markdown",
      "source": [
        "##LIME Explanations for Each Model"
      ],
      "metadata": {
        "id": "d_UacRo53dh4"
      }
    },
    {
      "cell_type": "code",
      "source": [
        "#dt\n",
        "dt_lime = explainer.explain_instance(X_test.iloc[index].values, lambda x: dt.predict(pd.DataFrame(x, columns=X_test.columns)), num_features=len(X.columns))\n",
        "dt_lime.as_list()"
      ],
      "metadata": {
        "id": "NIWu6__93dJm"
      },
      "execution_count": null,
      "outputs": []
    },
    {
      "cell_type": "code",
      "source": [
        "#ebm\n",
        "ebm_lime = explainer.explain_instance(X_test.iloc[index].values, lambda x: ebm.predict(pd.DataFrame(x, columns=X_test.columns)), num_features=len(X.columns))\n",
        "ebm_lime.as_list()"
      ],
      "metadata": {
        "id": "6he8in_F37KV"
      },
      "execution_count": null,
      "outputs": []
    },
    {
      "cell_type": "code",
      "source": [
        "#cat\n",
        "cat_lime = explainer.explain_instance(X_test.iloc[index].values, lambda x: cat.predict(pd.DataFrame(x, columns=X_test.columns)), num_features=len(X.columns))\n",
        "cat_lime.as_list()"
      ],
      "metadata": {
        "id": "QARpDBsP4Hli"
      },
      "execution_count": null,
      "outputs": []
    },
    {
      "cell_type": "code",
      "source": [
        "#lgbm\n",
        "lgbm_lime = explainer.explain_instance(X_test.iloc[index].values, lambda x: lgbm.predict(pd.DataFrame(x, columns=X_test.columns)), num_features=len(X.columns))\n",
        "lgbm_lime.as_list()"
      ],
      "metadata": {
        "id": "za17vawt4Rx3"
      },
      "execution_count": null,
      "outputs": []
    }
  ],
  "metadata": {
    "colab": {
      "provenance": []
    },
    "kernelspec": {
      "display_name": "Python 3",
      "name": "python3"
    },
    "language_info": {
      "name": "python"
    }
  },
  "nbformat": 4,
  "nbformat_minor": 0
}