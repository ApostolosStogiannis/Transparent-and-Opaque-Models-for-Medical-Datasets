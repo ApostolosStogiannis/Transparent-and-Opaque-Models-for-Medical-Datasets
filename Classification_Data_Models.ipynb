{
  "nbformat": 4,
  "nbformat_minor": 0,
  "metadata": {
    "colab": {
      "provenance": []
    },
    "kernelspec": {
      "name": "python3",
      "display_name": "Python 3"
    },
    "language_info": {
      "name": "python"
    }
  },
  "cells": [
    {
      "cell_type": "markdown",
      "source": [
        "#Setting Up the Models"
      ],
      "metadata": {
        "id": "SFTdtvrkvbm0"
      }
    },
    {
      "cell_type": "markdown",
      "source": [
        "##Install Libraries and Import Packages"
      ],
      "metadata": {
        "id": "I89rASc-lsbr"
      }
    },
    {
      "cell_type": "code",
      "execution_count": null,
      "metadata": {
        "id": "Bq7lPEqWjnzX"
      },
      "outputs": [],
      "source": [
        "!pip install -r requirements_cl.txt"
      ]
    },
    {
      "cell_type": "code",
      "source": [
        "from ucimlrepo import fetch_ucirepo\n",
        "\n",
        "import pandas as pd\n",
        "import numpy as np\n",
        "from sklearn import preprocessing\n",
        "from sklearn.impute import SimpleImputer\n",
        "from sklearn.model_selection import train_test_split\n",
        "\n",
        "from sklearn.tree import DecisionTreeClassifier\n",
        "from sklearn.linear_model import LogisticRegression\n",
        "from sklearn.ensemble import RandomForestClassifier\n",
        "from xgboost import XGBClassifier\n",
        "\n",
        "from sklearn.metrics import classification_report, accuracy_score\n",
        "import matplotlib.pyplot as plt\n",
        "import seaborn as sns\n",
        "\n",
        "import shap\n",
        "import graphviz\n",
        "from sklearn.tree import export_graphviz\n",
        "from lime.lime_tabular import LimeTabularExplainer\n",
        "\n",
        "#fetch dataset\n",
        "heart_disease = fetch_ucirepo(id=45)\n",
        "\n",
        "#data\n",
        "df = heart_disease.data.original.copy()"
      ],
      "metadata": {
        "id": "4BEVh87tlCvG"
      },
      "execution_count": null,
      "outputs": []
    },
    {
      "cell_type": "markdown",
      "source": [
        "##Data Analysis"
      ],
      "metadata": {
        "id": "521EOsXJ6YlR"
      }
    },
    {
      "cell_type": "code",
      "source": [
        "df.info()"
      ],
      "metadata": {
        "id": "HuaQtKKP6ax0"
      },
      "execution_count": null,
      "outputs": []
    },
    {
      "cell_type": "code",
      "source": [
        "df.describe()"
      ],
      "metadata": {
        "id": "EfyFaeVO6cz6"
      },
      "execution_count": null,
      "outputs": []
    },
    {
      "cell_type": "code",
      "source": [
        "df.head()"
      ],
      "metadata": {
        "id": "gOffWkRm6fKN"
      },
      "execution_count": null,
      "outputs": []
    },
    {
      "cell_type": "code",
      "source": [
        "plt.figure(figsize=(10, 6))\n",
        "sns.heatmap(df.corr(), annot=True, cmap='coolwarm')\n",
        "plt.title(\"Correlation Heatmap\")\n",
        "plt.show()"
      ],
      "metadata": {
        "id": "VoYF3a2j6jDx"
      },
      "execution_count": null,
      "outputs": []
    },
    {
      "cell_type": "code",
      "source": [
        "for col in df.columns:\n",
        "    plt.boxplot(df[col])\n",
        "    plt.title(col)\n",
        "    plt.show()"
      ],
      "metadata": {
        "id": "EEa-rEFJ6mP1"
      },
      "execution_count": null,
      "outputs": []
    },
    {
      "cell_type": "code",
      "source": [
        "df.duplicated().sum()"
      ],
      "metadata": {
        "id": "_fhhKuwV6pO6"
      },
      "execution_count": null,
      "outputs": []
    },
    {
      "cell_type": "code",
      "source": [
        "df.isna().sum()"
      ],
      "metadata": {
        "id": "66bSQtuC6rI4"
      },
      "execution_count": null,
      "outputs": []
    },
    {
      "cell_type": "markdown",
      "source": [
        "##Handling NaN Values with SimpleImputer"
      ],
      "metadata": {
        "id": "-inT-s60m96C"
      }
    },
    {
      "cell_type": "code",
      "source": [
        "imputer = SimpleImputer(missing_values = np.nan, strategy ='mean')\n",
        "imputer = imputer.fit(df)\n",
        "df = imputer.transform(df)\n",
        "\n",
        "#convert NP to DF\n",
        "df = pd.DataFrame(df, columns=heart_disease.data.original.columns)"
      ],
      "metadata": {
        "id": "6lqZucRtlfzf"
      },
      "execution_count": null,
      "outputs": []
    },
    {
      "cell_type": "markdown",
      "source": [
        "##Combining Classes"
      ],
      "metadata": {
        "id": "I5zByFELnQ5v"
      }
    },
    {
      "cell_type": "code",
      "source": [
        "X = df.drop('num', axis=1)\n",
        "y = df['num']\n",
        "\n",
        "#for plot\n",
        "feature_names = X.columns\n",
        "\n",
        "#class 0 -> no disease(0) / classes 1-4 -> disease(1)\n",
        "y_binary = y.copy()\n",
        "y_binary[y_binary > 0] = 1"
      ],
      "metadata": {
        "id": "5TYRZMcMlihH"
      },
      "execution_count": null,
      "outputs": []
    },
    {
      "cell_type": "markdown",
      "source": [
        "##Spliting and Scaling the Data"
      ],
      "metadata": {
        "id": "tgHSeOk-nVFe"
      }
    },
    {
      "cell_type": "code",
      "source": [
        "#split\n",
        "X_train, X_test, y_train, y_test = train_test_split(X, y_binary, test_size=0.25, random_state=0, stratify=y_binary)\n",
        "\n",
        "#scale\n",
        "scaler = preprocessing.StandardScaler()\n",
        "X_train = scaler.fit_transform(X_train)\n",
        "X_test = scaler.transform(X_test)"
      ],
      "metadata": {
        "id": "IdsdqipelltV"
      },
      "execution_count": null,
      "outputs": []
    },
    {
      "cell_type": "markdown",
      "source": [
        "##Creating the Optimized Models and Then Fitting them"
      ],
      "metadata": {
        "id": "Dz8kJbFKreXf"
      }
    },
    {
      "cell_type": "code",
      "source": [
        "#Decision Tree Model\n",
        "dt = DecisionTreeClassifier(ccp_alpha=0.0, class_weight=None, criterion='entropy',\n",
        "                            max_depth=4, max_features=None, max_leaf_nodes=None,\n",
        "                            min_impurity_decrease=0.0, min_samples_leaf=16, min_samples_split=4,\n",
        "                            min_weight_fraction_leaf=0.0, monotonic_cst=None, random_state=100, splitter='random')\n",
        "\n",
        "#Logistic Regression Model\n",
        "lr = LogisticRegression(C=0.010993634452683504, class_weight='balanced', dual=False,\n",
        "                        fit_intercept=True, intercept_scaling=1, l1_ratio=None, max_iter=100,\n",
        "                        multi_class='deprecated', n_jobs=None, penalty='l2', random_state=100, solver='liblinear',\n",
        "                        tol=0.0001, verbose=0, warm_start=False)\n",
        "\n",
        "#Random Forest Model\n",
        "rf = RandomForestClassifier(bootstrap=True, ccp_alpha=0.0, class_weight=None, criterion='gini',\n",
        "                            max_depth=15, max_features='sqrt', max_leaf_nodes=None, max_samples=None,\n",
        "                            min_impurity_decrease=0.0, min_samples_leaf=15, min_samples_split=16,\n",
        "                            min_weight_fraction_leaf=0.0, monotonic_cst=None, n_estimators=53, n_jobs=None,\n",
        "                            oob_score=False, random_state=100, verbose=0, warm_start=False)\n",
        "\n",
        "#XGBoost Model\n",
        "xgb = XGBClassifier(objective='binary:logistic', base_score=None, booster=None, callbacks=None,\n",
        "                    colsample_bylevel=None, colsample_bynode=None, colsample_bytree=0.7504717399139913,\n",
        "                    device=None, early_stopping_rounds=None, enable_categorical=False, eval_metric=None,\n",
        "                    feature_types=None, gamma=0.6497146261841261, grow_policy=None, importance_type=None,\n",
        "                    interaction_constraints=None, learning_rate=0.021618964126433812, max_bin=None, max_cat_threshold=None,\n",
        "                    max_cat_to_onehot=None, max_delta_step=None, max_depth=7, max_leaves=None, min_child_weight=None,\n",
        "                    missing=np.nan, monotone_constraints=None, multi_strategy=None, n_estimators=347, n_jobs=None,\n",
        "                    num_parallel_tree=None, random_state=100, reg_alpha=0.0010349590106072711, reg_lambda=0.02637083647277659,\n",
        "                    sampling_method=None, scale_pos_weight=8.443990241900503, subsample=0.7040523480851058, tree_method=None,\n",
        "                    validate_parameters=None, verbosity=None)"
      ],
      "metadata": {
        "id": "lwvykJqrrjsQ"
      },
      "execution_count": null,
      "outputs": []
    },
    {
      "cell_type": "code",
      "source": [
        "dt.fit(X_train, y_train)\n",
        "lr.fit(X_train, y_train)\n",
        "rf.fit(X_train, y_train)\n",
        "xgb.fit(X_train, y_train)"
      ],
      "metadata": {
        "id": "_lgnDenMrt6R"
      },
      "execution_count": null,
      "outputs": []
    },
    {
      "cell_type": "markdown",
      "source": [
        "##Evaluating Each Model's Performance"
      ],
      "metadata": {
        "id": "09DcC91nr2LB"
      }
    },
    {
      "cell_type": "code",
      "source": [
        "#For dt\n",
        "dt_pred = dt.predict(X_test)\n",
        "print(\"\\nFor the Decision Tree Model:\\nAccuracy: \" + str(accuracy_score(y_test, dt_pred) * 100) + \"%\")\n",
        "print(\"Classification Report:\\n\" + str(classification_report(y_test, dt_pred)))"
      ],
      "metadata": {
        "id": "Q5qq4ahbr66U"
      },
      "execution_count": null,
      "outputs": []
    },
    {
      "cell_type": "code",
      "source": [
        "#For lr\n",
        "lr_pred = lr.predict(X_test)\n",
        "print(\"\\nFor the Logistic Regression Model:\\nAccuracy: \" + str(accuracy_score(y_test, lr_pred) * 100) + \"%\")\n",
        "print(\"Classification Report:\\n\" + str(classification_report(y_test, lr_pred)))"
      ],
      "metadata": {
        "id": "N-yKI6o4tWMn"
      },
      "execution_count": null,
      "outputs": []
    },
    {
      "cell_type": "code",
      "source": [
        "#For rf\n",
        "rf_pred = rf.predict(X_test)\n",
        "print(\"\\nFor the Random Forest Model:\\nAccuracy: \" + str(accuracy_score(y_test, rf_pred) * 100) + \"%\")\n",
        "print(\"Classification Report:\\n\" + str(classification_report(y_test, rf_pred)))"
      ],
      "metadata": {
        "id": "Jvg7zZTbtbw4"
      },
      "execution_count": null,
      "outputs": []
    },
    {
      "cell_type": "code",
      "source": [
        "#For xgb\n",
        "xgb_pred = xgb.predict(X_test)\n",
        "print(\"\\nFor the XGBoost Model:\\nAccuracy: \" + str(accuracy_score(y_test, xgb_pred) * 100) + \"%\")\n",
        "print(\"Classification Report:\\n\" + str(classification_report(y_test, xgb_pred)))"
      ],
      "metadata": {
        "id": "Af9Zv41ottmx"
      },
      "execution_count": null,
      "outputs": []
    },
    {
      "cell_type": "markdown",
      "source": [
        "#Global Explainability"
      ],
      "metadata": {
        "id": "QwM0_xQXvgeu"
      }
    },
    {
      "cell_type": "markdown",
      "source": [
        "##Decision Tree's Tree Structure"
      ],
      "metadata": {
        "id": "8yzHE6u0vuYe"
      }
    },
    {
      "cell_type": "code",
      "source": [
        "dot_data = export_graphviz(dt, out_file=None,\n",
        "                                feature_names=feature_names,\n",
        "                                class_names=[str(x) for x in y_binary.unique()],\n",
        "                                filled=True)\n",
        "\n",
        "graph = graphviz.Source(dot_data, format=\"png\")\n",
        "graph"
      ],
      "metadata": {
        "id": "hqcxwtBbvvtc"
      },
      "execution_count": null,
      "outputs": []
    },
    {
      "cell_type": "markdown",
      "source": [
        "##Logistic Regression Model's Coefficients"
      ],
      "metadata": {
        "id": "G0BKojeTwiPI"
      }
    },
    {
      "cell_type": "code",
      "source": [
        "coefficients = pd.Series(lr.coef_[0], index=feature_names)\n",
        "print(\"Logistic Regression Coefficients:\\n\")\n",
        "print(coefficients.sort_values(ascending=False))"
      ],
      "metadata": {
        "id": "GlBKNUjfwx1N"
      },
      "execution_count": null,
      "outputs": []
    },
    {
      "cell_type": "code",
      "source": [
        "coefficients.sort_values().plot(kind=\"barh\", figsize=(8, 6))\n",
        "plt.title(\"Logistic Regression Coefficients\")\n",
        "plt.xlabel(\"Coefficient Value\")\n",
        "plt.tight_layout()\n",
        "plt.grid()\n",
        "plt.show()"
      ],
      "metadata": {
        "id": "_8zJ7D0Qw3RS"
      },
      "execution_count": null,
      "outputs": []
    },
    {
      "cell_type": "markdown",
      "source": [
        "##Setting Up SHAP explainers"
      ],
      "metadata": {
        "id": "45oSUf4Qw8gc"
      }
    },
    {
      "cell_type": "code",
      "source": [
        "#turn data into DF for SHAP plots\n",
        "X_test_df = pd.DataFrame(X_test, columns=feature_names)\n",
        "\n",
        "#SHAP for dt\n",
        "dt_explainer = shap.TreeExplainer(dt)\n",
        "dt_shap_values = dt_explainer.shap_values(X_test_df)\n",
        "\n",
        "#SHAP for lr\n",
        "lr_explainer = shap.LinearExplainer(lr, masker=shap.maskers.Independent(X_test_df))\n",
        "lr_shap_values = lr_explainer.shap_values(X_test_df)\n",
        "\n",
        "#SHAP for rf\n",
        "rf_explainer = shap.TreeExplainer(rf)\n",
        "rf_shap_values = rf_explainer.shap_values(X_test_df)\n",
        "\n",
        "#SHAP for xgb\n",
        "xgb_explainer = shap.Explainer(xgb)\n",
        "xgb_shap_values = xgb_explainer.shap_values(X_test_df)"
      ],
      "metadata": {
        "id": "4O3ecEmlwe0q"
      },
      "execution_count": null,
      "outputs": []
    },
    {
      "cell_type": "markdown",
      "source": [
        "##SHAP Summary Plots For Each Model"
      ],
      "metadata": {
        "id": "ohoS4poSymkW"
      }
    },
    {
      "cell_type": "code",
      "source": [
        "dt_shap_values.shape"
      ],
      "metadata": {
        "id": "7UqL6k497C9N"
      },
      "execution_count": null,
      "outputs": []
    },
    {
      "cell_type": "code",
      "source": [
        "#dt\n",
        "shap.summary_plot(dt_shap_values[:, :, 1], X_test_df)"
      ],
      "metadata": {
        "id": "gh0CDQCG-PrB"
      },
      "execution_count": null,
      "outputs": []
    },
    {
      "cell_type": "code",
      "source": [
        "lr_shap_values.shape"
      ],
      "metadata": {
        "id": "enTK74YV7IZU"
      },
      "execution_count": null,
      "outputs": []
    },
    {
      "cell_type": "code",
      "source": [
        "#lr\n",
        "shap.summary_plot(lr_shap_values, X_test_df)"
      ],
      "metadata": {
        "id": "8vgdvjKv-m_K"
      },
      "execution_count": null,
      "outputs": []
    },
    {
      "cell_type": "code",
      "source": [
        "rf_shap_values.shape"
      ],
      "metadata": {
        "id": "JgQmWykk7RuJ"
      },
      "execution_count": null,
      "outputs": []
    },
    {
      "cell_type": "code",
      "source": [
        "#rf\n",
        "shap.summary_plot(rf_shap_values[:, :, 1], X_test_df)"
      ],
      "metadata": {
        "id": "XXUfxy3H-ttD"
      },
      "execution_count": null,
      "outputs": []
    },
    {
      "cell_type": "code",
      "source": [
        "xgb_shap_values.shape"
      ],
      "metadata": {
        "id": "5ItsKZ4S7Wta"
      },
      "execution_count": null,
      "outputs": []
    },
    {
      "cell_type": "code",
      "source": [
        "#xgb\n",
        "shap.summary_plot(xgb_shap_values, X_test_df)"
      ],
      "metadata": {
        "id": "uGKirkMa-ztv"
      },
      "execution_count": null,
      "outputs": []
    },
    {
      "cell_type": "markdown",
      "source": [
        "#Local Explainability"
      ],
      "metadata": {
        "id": "Q87RLY7f_Pcf"
      }
    },
    {
      "cell_type": "markdown",
      "source": [
        "##Selecting Instance"
      ],
      "metadata": {
        "id": "SWA6plKA_ZSu"
      }
    },
    {
      "cell_type": "code",
      "source": [
        "index = 0"
      ],
      "metadata": {
        "id": "6IqjWW_y_Yah"
      },
      "execution_count": null,
      "outputs": []
    },
    {
      "cell_type": "markdown",
      "source": [
        "##Decision Path"
      ],
      "metadata": {
        "id": "EQHxkMZy_dEZ"
      }
    },
    {
      "cell_type": "code",
      "source": [
        "X_instance = X_test[index].reshape(1, -1)\n",
        "\n",
        "node_indicator = dt.decision_path(X_instance)\n",
        "leaf_id = dt.apply(X_instance)\n",
        "\n",
        "print(f\"\\nDecision path for instance {index}:\")\n",
        "for node_id in node_indicator.indices:\n",
        "    if dt.tree_.children_left[node_id] != dt.tree_.children_right[node_id]:\n",
        "        feature = feature_names[dt.tree_.feature[node_id]]\n",
        "        threshold = dt.tree_.threshold[node_id]\n",
        "        if X_instance[0, dt.tree_.feature[node_id]] <= threshold:\n",
        "            threshold_sign = \"<=\"\n",
        "        else:\n",
        "            threshold_sign = \">\"\n",
        "        print(f\"  {feature} = {X_instance[0, dt.tree_.feature[node_id]]:.2f} \"\n",
        "              f\"{threshold_sign} {threshold:.2f}\")\n",
        "\n",
        "pred_class = dt.predict(X_instance)[0]\n",
        "true_class = y_test.iloc[index] if isinstance(y_test, pd.Series) else y_test[index]\n",
        "\n",
        "print(f\"\\nPredicted class: {pred_class}\")\n",
        "print(f\"Actual class:    {true_class}\")"
      ],
      "metadata": {
        "id": "v8vBY_87_ccZ"
      },
      "execution_count": null,
      "outputs": []
    },
    {
      "cell_type": "markdown",
      "source": [
        "##Logistic Regression's Contributions For Single Instance"
      ],
      "metadata": {
        "id": "3iGhrlojAO6K"
      }
    },
    {
      "cell_type": "code",
      "source": [
        "contributions = X_test_df.iloc[index] * lr.coef_[0]\n",
        "print(contributions.sort_values(ascending=False))"
      ],
      "metadata": {
        "id": "7lhmOieiAVL9"
      },
      "execution_count": null,
      "outputs": []
    },
    {
      "cell_type": "markdown",
      "source": [
        "##SHAP Waterfalls"
      ],
      "metadata": {
        "id": "tISaiMu5_yE0"
      }
    },
    {
      "cell_type": "code",
      "source": [
        "#dt\n",
        "shap.initjs()\n",
        "shap.force_plot(dt_explainer.expected_value[1], dt_shap_values[index, :, 1], X_test_df.iloc[index])"
      ],
      "metadata": {
        "id": "GJKmv5u7_xSx"
      },
      "execution_count": null,
      "outputs": []
    },
    {
      "cell_type": "code",
      "source": [
        "#lr\n",
        "shap.initjs()\n",
        "shap.force_plot(lr_explainer.expected_value, lr_shap_values[index, :], X_test_df.iloc[index])"
      ],
      "metadata": {
        "id": "dSgpuc98A9Ge"
      },
      "execution_count": null,
      "outputs": []
    },
    {
      "cell_type": "code",
      "source": [
        "#rf\n",
        "shap.initjs()\n",
        "shap.force_plot(rf_explainer.expected_value[1], rf_shap_values[index, :, 1], X_test_df.iloc[index])"
      ],
      "metadata": {
        "id": "qUmfTvcPBCWA"
      },
      "execution_count": null,
      "outputs": []
    },
    {
      "cell_type": "code",
      "source": [
        "#xgb\n",
        "shap.initjs()\n",
        "shap.force_plot(xgb_explainer.expected_value, xgb_shap_values[index, :], X_test_df.iloc[index])"
      ],
      "metadata": {
        "id": "va5tfNqDBe1L"
      },
      "execution_count": null,
      "outputs": []
    },
    {
      "cell_type": "markdown",
      "metadata": {
        "id": "d5f61279"
      },
      "source": [
        "##Setting up LIME Explainer"
      ]
    },
    {
      "cell_type": "code",
      "metadata": {
        "id": "60947f06"
      },
      "source": [
        "explainer = LimeTabularExplainer(X_train, feature_names=feature_names, class_names=['No Disease', 'Disease'], mode='classification')"
      ],
      "execution_count": null,
      "outputs": []
    },
    {
      "cell_type": "markdown",
      "metadata": {
        "id": "a8cef7c2"
      },
      "source": [
        "##LIME Explanations for Each Model"
      ]
    },
    {
      "cell_type": "code",
      "metadata": {
        "id": "100a7d13"
      },
      "source": [
        "#dt\n",
        "dt_lime = explainer.explain_instance(X_test[index], dt.predict_proba, num_features=len(feature_names))\n",
        "dt_lime.as_list()"
      ],
      "execution_count": null,
      "outputs": []
    },
    {
      "cell_type": "code",
      "metadata": {
        "id": "852706a6"
      },
      "source": [
        "#lr\n",
        "lr_lime = explainer.explain_instance(X_test[index], lr.predict_proba, num_features=len(feature_names))\n",
        "lr_lime.as_list()"
      ],
      "execution_count": null,
      "outputs": []
    },
    {
      "cell_type": "code",
      "metadata": {
        "id": "e0934fe9"
      },
      "source": [
        "#rf\n",
        "rf_lime = explainer.explain_instance(X_test[index], rf.predict_proba, num_features=len(feature_names))\n",
        "rf_lime.as_list()"
      ],
      "execution_count": null,
      "outputs": []
    },
    {
      "cell_type": "code",
      "metadata": {
        "id": "ccad4c41"
      },
      "source": [
        "#xgb\n",
        "xgb_lime = explainer.explain_instance(X_test[index], xgb.predict_proba, num_features=len(feature_names))\n",
        "xgb_lime.as_list()"
      ],
      "execution_count": null,
      "outputs": []
    }
  ]
}